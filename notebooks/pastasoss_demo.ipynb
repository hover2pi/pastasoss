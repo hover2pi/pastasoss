{
 "cells": [
  {
   "attachments": {},
   "cell_type": "markdown",
   "metadata": {},
   "source": [
    "# **P**redicting **A**ccurate **S**pectral **T**races for **A**strophysical **SOSS** Spectra Package Demo \n",
    "----\n",
    "\n",
    "This notebook demonstrates how to use the `PASTASOSS` package to rapidly generate the trace positions for NIRISS/SOSS observations, in addition we include and example SOSS observation. `PASTASOSS` uses reference models of trace positions for commanded position of the GR700XD, for order 1 and 2. We apply a rotation transform to reference models to derive the trace positions for any given pupil wheel position angle that is included in the FITS header using the keyword `PWCPOS`. The associate wavelength for each trace positions will be added to the tool at a later date to provide a complete picture with sub-pixel performance. Future iterations of this will include update models for spectral traces positions and will eventually include support for order 3. "
   ]
  },
  {
   "attachments": {},
   "cell_type": "markdown",
   "metadata": {},
   "source": [
    "## Imports"
   ]
  },
  {
   "cell_type": "code",
   "execution_count": null,
   "metadata": {},
   "outputs": [],
   "source": [
    "import numpy as np\n",
    "import matplotlib.pyplot as plt\n",
    "\n",
    "import pastasoss"
   ]
  },
  {
   "attachments": {},
   "cell_type": "markdown",
   "metadata": {},
   "source": [
    "## Generate Trace Positions\n",
    "\n",
    "First's, load in an example image that has been provided for this notebook and the pupil wheel position associated with the SOSS observation has been given. We will demonstratte how to use `PASTASOSS` to generate the trace positions for this observation given the pupil wheel position.\n",
    "\n",
    "The example SOSS observation used in this demo is from the calibration program 1512 dataset. \n",
    "\n",
    "Let's begin by loading in the image for this demo:"
   ]
  },
  {
   "cell_type": "code",
   "execution_count": null,
   "metadata": {},
   "outputs": [],
   "source": [
    "# Load the .npy file containing only the image.\n",
    "data = np.load('jw01512001001_03102_00001_nis_demo_pwcpos_245.778671.npy')\n",
    "\n",
    "# Pupil wheel position assocaitated with the example observation. \n",
    "pwcpos = 245.778671\n",
    "\n",
    "# Plot the image\n",
    "plt.figure(figsize=(6,3), dpi=200)\n",
    "plt.imshow(data, vmin=0, vmax=50, origin='lower', aspect='auto',cmap='inferno')\n",
    "plt.xlabel('x [pix]')\n",
    "plt.ylabel('y [pix]')\n",
    "plt.show()\n"
   ]
  },
  {
   "attachments": {},
   "cell_type": "markdown",
   "metadata": {},
   "source": [
    "Next, will we generate the trace positions for spectral orders 1 and 2 using the `get_soss_traces` function from `PASTASOSS`."
   ]
  },
  {
   "cell_type": "code",
   "execution_count": null,
   "metadata": {},
   "outputs": [],
   "source": [
    "# get the order 1 traces for the desired PWCPOS \n",
    "traces_order1 = pastasoss.get_soss_traces(pwcpos=pwcpos, order='1', interp=True) \n",
    "\n",
    "# now for order 2\n",
    "traces_order2 = pastasoss.get_soss_traces(pwcpos=pwcpos, order='2', interp=True)"
   ]
  },
  {
   "cell_type": "markdown",
   "metadata": {},
   "source": [
    "The `get_soss_traces` method will use the included trace and wavelength calibration model to predict the trace (x, y) pixel positions and their associated wavelength values in units of microns. This method will return a TraceModel that is a dataclass object to store the trace properties (i.e., order, x, y, wavelength). "
   ]
  },
  {
   "cell_type": "code",
   "execution_count": null,
   "metadata": {},
   "outputs": [],
   "source": [
    "type(traces_order1)"
   ]
  },
  {
   "cell_type": "code",
   "execution_count": null,
   "metadata": {},
   "outputs": [],
   "source": [
    "print(traces_order1)"
   ]
  },
  {
   "attachments": {},
   "cell_type": "markdown",
   "metadata": {},
   "source": [
    "You can also called the function in a single line by the follow:"
   ]
  },
  {
   "cell_type": "code",
   "execution_count": null,
   "metadata": {},
   "outputs": [],
   "source": [
    "# uncomment this line and run the cell\n",
    "# traces_order1, traces_order2 = pastasoss.get_trace_from_reference_transform(pwcpos=pwcpos, order='12', interp=True)"
   ]
  },
  {
   "attachments": {},
   "cell_type": "markdown",
   "metadata": {},
   "source": [
    "Next, lets plot our traces we just generated for this observation ontop of our image. Let separate our traces into their x-,y-compenents."
   ]
  },
  {
   "cell_type": "code",
   "execution_count": null,
   "metadata": {},
   "outputs": [],
   "source": [
    "x1, y1, wave1 = traces_order1.x, traces_order1.y, traces_order1.wavelength\n",
    "x2, y2, wave2 = traces_order2.x, traces_order2.y, traces_order2.wavelength"
   ]
  },
  {
   "attachments": {},
   "cell_type": "markdown",
   "metadata": {},
   "source": [
    "Now lets plots traces for orders 1 and 2 on top of our example SOSS observations"
   ]
  },
  {
   "cell_type": "code",
   "execution_count": null,
   "metadata": {},
   "outputs": [],
   "source": [
    "plt.figure(figsize=(6,3), dpi=200)\n",
    "plt.title(f'NIRISS/SOSS GR700XD\\ntrace positions at PWCPOS={pwcpos:.3f}')\n",
    "plt.imshow(data, vmin=0, vmax=50, origin='lower', aspect='auto', cmap='inferno')\n",
    "plt.plot(x1,y1, lw=1.5, label=f'order 1', color='cornflowerblue')\n",
    "plt.plot(x2,y2, lw=1.5, label=f'order 2', color='orangered')\n",
    "plt.xlabel('x [pix]')\n",
    "plt.ylabel('y [pix]')\n",
    "plt.legend()\n",
    "plt.show()"
   ]
  },
  {
   "attachments": {},
   "cell_type": "markdown",
   "metadata": {},
   "source": [
    "Now that we have our traces positions for spectral order 1 and 2, we can perform a simple aperutre extraction to extract the spectrum.  "
   ]
  },
  {
   "cell_type": "code",
   "execution_count": null,
   "metadata": {},
   "outputs": [],
   "source": [
    "# ignore values less zero\n",
    "data[data<0] = 0\n",
    "\n",
    "# Define how many pixels we want to set our aperture above and below the trace center\n",
    "npix = 15\n",
    "\n",
    "# perform a simple aperture extraction via cutout of a desired window size. \n",
    "flux_order1 = [data[int(y)-npix:int(y)+npix, int(x)].sum() for x, y in zip(x1, y1)]\n",
    "flux_order2 = [data[int(y)-npix:int(y)+npix, int(x)].sum() for x, y in zip(x2, y2)]"
   ]
  },
  {
   "attachments": {},
   "cell_type": "markdown",
   "metadata": {},
   "source": [
    "Let's plot the extracted spectrum for orders 1 and 2."
   ]
  },
  {
   "cell_type": "code",
   "execution_count": null,
   "metadata": {},
   "outputs": [],
   "source": [
    "fig, (ax1, ax2) = plt.subplots(1, 2, figsize=(12,6))\n",
    "fig.suptitle('Extracted SOSS Spectra')\n",
    "ax1.set_title('Order 1')\n",
    "ax1.plot(wave1, flux_order1, lw=1.5, label=f'order 1', color='cornflowerblue')\n",
    "ax1.set_xlabel('wavelength [um]')\n",
    "ax1.set_ylabel('DN/s')\n",
    "\n",
    "\n",
    "ax2.set_title('Order 2')\n",
    "ax2.plot(wave2, flux_order2, lw=1.5, label=f'order 2', color='orangered')\n",
    "ax2.set_xlabel('wavelength [um]')\n",
    "ax2.set_ylabel('DN/s')\n",
    "\n",
    "plt.tight_layout()\n",
    "plt.show()"
   ]
  },
  {
   "cell_type": "code",
   "execution_count": null,
   "metadata": {},
   "outputs": [],
   "source": [
    "plt.figure(figsize=(8,6), dpi=187)\n",
    "plt.plot(wave1, flux_order1, lw=1.5, label=f'order 1', color='cornflowerblue')\n",
    "plt.xlabel('wavelength [um]')\n",
    "plt.ylabel('DN/s')\n",
    "plt.text(1.25, 25000, 'Order 1', color='cornflowerblue')\n",
    "plt.twiny()\n",
    "plt.plot(wave2, flux_order2, lw=1.5, label=f'order 2', color='orangered')\n",
    "plt.text(0.7, 20000, 'Order 2', color='orangered')\n",
    "plt.ylabel('DN/s (order 2)')\n",
    "plt.xlabel('wavelength [um]')\n",
    "# plt.legend()\n",
    "\n",
    "plt.tight_layout()\n",
    "plt.show()"
   ]
  },
  {
   "attachments": {},
   "cell_type": "markdown",
   "metadata": {},
   "source": [
    "# Conclusion\n",
    "\n",
    "This concludes the demo (v1.1) of how to use the PASATSOSS Package.\n",
    "\n",
    "Our goal with PASTASOSS to provide the community with a tool to predict the spectral traces (i.e, their positions on the detector and associated wavelengths for the three GR700XD diffraction orders) given a PWCPOS value. \n",
    "\n",
    "### Future priority updates to include into the PASTASOSS package:\n",
    "1. Support for order 3 traces and wavelength calibration\n",
    "2. Update trace and wavelength calibration models when more data becomes available\n",
    "3. Possible integration into the JWST calibration pipeline (TBD). \n",
    "\n",
    "\n",
    "### Additional features that may be included in the future:\n",
    "1. integrated method(s) to trace spectral such as:\n",
    "    - the applesoss edge-triger algorithm \n",
    "    - transitspectroscopy cross-correlation algorithm\n",
    "2. spatial profiles\n",
    "3. Background model prediction for Background Subtraction (integrated or standalone)\n",
    "4. 1/f noise removal\n",
    "\n",
    "\n",
    "-----\n",
    "\n",
    "If you use this tool in your work, please cite the tool and author(s). For questions about the tool or interested in contributing to the package in any way, please contact the authors. \n",
    "\n",
    "Links to Technical Reports (TBD):\n",
    "1. Visit-to-visit Trace Characterization (Jdox | arXiv)\n",
    "2. Visit-to-visit Wavelength Solution (Jdox | arXiv)"
   ]
  },
  {
   "cell_type": "markdown",
   "metadata": {},
   "source": [
    "##  About this notebook\n",
    ">**_version_**: 1.1.0\n",
    ">\n",
    ">**_Author_**: Tyler Baines, STScI Science Support Analyst\n",
    ">\n",
    ">**_Email_**: <tbaines@stsci.edu>\n",
    ">\n",
    ">**_Date Updated_**: 9/08/2023\n",
    ">\n",
    ">**_Observatory_**: JWST\n",
    ">\n",
    ">**_Instrument/Mode_**: NIRISS/SOSS\n",
    "\n",
    "____"
   ]
  }
 ],
 "metadata": {
  "kernelspec": {
   "display_name": "pasta-soss-3.9",
   "language": "python",
   "name": "python3"
  },
  "language_info": {
   "codemirror_mode": {
    "name": "ipython",
    "version": 3
   },
   "file_extension": ".py",
   "mimetype": "text/x-python",
   "name": "python",
   "nbconvert_exporter": "python",
   "pygments_lexer": "ipython3",
   "version": "3.9.16"
  }
 },
 "nbformat": 4,
 "nbformat_minor": 2
}
