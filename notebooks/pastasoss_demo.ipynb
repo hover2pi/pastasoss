{
 "cells": [
  {
   "cell_type": "markdown",
   "metadata": {},
   "source": [
    "# **P**redicting **A**ccurate **S**pectra **T**races for **A**strophysical **SOSS** Spectra Demo (WORK IN PROGRESS)\n",
    "----\n",
    "This notebook demos how to use the `PASTASOSS` package to rapidly generate the trace positions for NIRISS/SOSS observations.\n",
    "\n",
    "#### About this Notebook\n",
    "**_Author_**: Tyler Baines, STScI Science Support Analyst\n",
    "\n",
    "**_Date Updated_**: 5/1/2023\n",
    "\n",
    "**_Observatory_**: JWST\n",
    "\n",
    "**_Instrument/Mode_**: NIRISS/SOSS\n",
    "\n"
   ]
  },
  {
   "cell_type": "markdown",
   "metadata": {},
   "source": [
    "## Imports"
   ]
  },
  {
   "cell_type": "code",
   "execution_count": 1,
   "metadata": {},
   "outputs": [
    {
     "ename": "ModuleNotFoundError",
     "evalue": "No module named 'pastasoss'",
     "output_type": "error",
     "traceback": [
      "\u001b[0;31m---------------------------------------------------------------------------\u001b[0m",
      "\u001b[0;31mModuleNotFoundError\u001b[0m                       Traceback (most recent call last)",
      "Cell \u001b[0;32mIn [1], line 1\u001b[0m\n\u001b[0;32m----> 1\u001b[0m \u001b[38;5;28;01mimport\u001b[39;00m \u001b[38;5;21;01mpastasoss\u001b[39;00m\n\u001b[1;32m      2\u001b[0m \u001b[38;5;28;01mimport\u001b[39;00m \u001b[38;5;21;01mmatplotlib\u001b[39;00m\u001b[38;5;21;01m.\u001b[39;00m\u001b[38;5;21;01mpyplot\u001b[39;00m \u001b[38;5;28;01mas\u001b[39;00m \u001b[38;5;21;01mplt\u001b[39;00m\n",
      "\u001b[0;31mModuleNotFoundError\u001b[0m: No module named 'pastasoss'"
     ]
    }
   ],
   "source": [
    "import pastasoss\n",
    "import matplotlib.pyplot as plt\n"
   ]
  },
  {
   "cell_type": "markdown",
   "metadata": {},
   "source": [
    "## Generate Trace Positions\n",
    "\n",
    "Get the traces positions for a given pupil wheel positions angle \"PWCPOS\" for a given spectral order(s)."
   ]
  },
  {
   "cell_type": "code",
   "execution_count": null,
   "metadata": {},
   "outputs": [],
   "source": [
    "#Arbritray gr700xd pwcpos angle\n",
    "pwcpos = 245.89 \n",
    "\n",
    "traces_order1 = get_trace_from_reference_transform(pwcpos=pwcpos, order='1', interp=True)\n",
    "traces_order2 = get_trace_from_reference_transform(pwcpos=pwcpos, order='2', interp=True)\n",
    "\n",
    "# or you can comment out the lines above and use the following:\n",
    "# traces_order1, traces_order2 = pastasoss.get_trace_from_reference_transform(pwcpos=pwcpos, order='12', interp=True)"
   ]
  },
  {
   "cell_type": "markdown",
   "metadata": {},
   "source": [
    "## Plot traces"
   ]
  },
  {
   "cell_type": "code",
   "execution_count": null,
   "metadata": {},
   "outputs": [],
   "source": [
    "x1, y1 = traces_order1\n",
    "x2, y2, = traces_order2\n",
    "\n",
    "plt.figure()\n",
    "plt.title(f'gr700xd trace w/ PWCPOS={pwcpos}')\n",
    "plt.plot(x1,y1, label=f'order 1')\n",
    "plt.plot(x2,y2, label=f'order 2')\n",
    "plt.legend()\n",
    "plt.show()"
   ]
  }
 ],
 "metadata": {
  "kernelspec": {
   "display_name": "pasta-soss-3.9",
   "language": "python",
   "name": "pasta-soss-3.9"
  },
  "language_info": {
   "codemirror_mode": {
    "name": "ipython",
    "version": 3
   },
   "file_extension": ".py",
   "mimetype": "text/x-python",
   "name": "python",
   "nbconvert_exporter": "python",
   "pygments_lexer": "ipython3",
   "version": "3.9.13"
  }
 },
 "nbformat": 4,
 "nbformat_minor": 2
}
