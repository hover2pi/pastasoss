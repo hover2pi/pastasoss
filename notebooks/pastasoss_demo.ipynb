{
 "cells": [
  {
   "attachments": {},
   "cell_type": "markdown",
   "metadata": {},
   "source": [
    "# **P**redicting **A**ccurate **S**pectral **T**races for **A**strophysical **SOSS** Spectra Demo (WORK IN PROGRESS)\n",
    "----\n",
    "This notebook demos how to use the `PASTASOSS` package to rapidly generate the trace positions for NIRISS/SOSS observations, in addition we include and example SOSS observation. `PASTASOSS` uses reference models of trace positions for commanded position of the GR700XD, for order 1 and 2. We apply a rotation transform to reference models to derive the trace positions for any given pupil wheel position angle that is included in the FITS header using the keyword `PWCPOS`. The associate wavelength for each trace positions will be added to the tool at a later date to provide a complete picture with sub-pixel performance. Future iterations of this will include update models for spectral traces positions and will eventually include support for order 3. \n",
    "\n",
    "\n",
    "#### About this Notebook\n",
    "**_Author_**: Tyler Baines, STScI Science Support Analyst \n",
    "\n",
    "email: <tbaines@stsci.edu>\n",
    "\n",
    "**_Date Updated_**: 5/10/2023\n",
    "\n",
    "**_Observatory_**: JWST\n",
    "\n",
    "**_Instrument/Mode_**: NIRISS/SOSS\n",
    "\n"
   ]
  },
  {
   "attachments": {},
   "cell_type": "markdown",
   "metadata": {},
   "source": [
    "## Imports"
   ]
  },
  {
   "cell_type": "code",
   "execution_count": null,
   "metadata": {},
   "outputs": [],
   "source": [
    "import numpy as np\n",
    "import matplotlib.pyplot as plt\n",
    "\n",
    "import pastasoss"
   ]
  },
  {
   "attachments": {},
   "cell_type": "markdown",
   "metadata": {},
   "source": [
    "## Generate Trace Positions\n",
    "\n",
    "First's, load in an example image that has been provided for this notebook and the pupil wheel position associated with the SOSS observation has been given. We will demonstratte how to use `PASTASOSS` to generate the trace positions for this observation given the pupil wheel position.\n",
    "\n",
    "The example SOSS observation used in this demo is from the calibration program 1512 dataset. \n",
    "\n",
    "Let's begin by loading in the image for this demo:"
   ]
  },
  {
   "cell_type": "code",
   "execution_count": null,
   "metadata": {},
   "outputs": [],
   "source": [
    "# Load the .npy file containing only the image.\n",
    "data = np.load('jw01512001001_03102_00001_nis_demo_pwcpos_245.778671.npy')\n",
    "\n",
    "# Pupil wheel position assocaitated with the example observation. \n",
    "pwcpos = 245.778671\n",
    "\n",
    "# Plot the image\n",
    "plt.figure(figsize=(6,3), dpi=200)\n",
    "plt.imshow(data, vmin=0, vmax=50, origin='lower', aspect='auto',cmap='inferno')\n",
    "plt.xlabel('x [pix]')\n",
    "plt.ylabel('y [pix]')\n",
    "plt.show()\n"
   ]
  },
  {
   "attachments": {},
   "cell_type": "markdown",
   "metadata": {},
   "source": [
    "Next, will we generate the trace positions for spectral orders 1 and 2 using the `get_trace_from_reference_transform` function from `PASTASOSS`."
   ]
  },
  {
   "cell_type": "code",
   "execution_count": null,
   "metadata": {},
   "outputs": [],
   "source": [
    "traces_order1 = pastasoss.get_trace_from_reference_transform(pwcpos=pwcpos, order='1', interp=True) \n",
    "traces_order2 = pastasoss.get_trace_from_reference_transform(pwcpos=pwcpos, order='2', interp=True)"
   ]
  },
  {
   "attachments": {},
   "cell_type": "markdown",
   "metadata": {},
   "source": [
    "You can also called the function in a single line by the follow:"
   ]
  },
  {
   "cell_type": "code",
   "execution_count": null,
   "metadata": {},
   "outputs": [],
   "source": [
    "# uncomment this line and run the cell\n",
    "# traces_order1, traces_order2 = pastasoss.get_trace_from_reference_transform(pwcpos=pwcpos, order='12', interp=True)"
   ]
  },
  {
   "attachments": {},
   "cell_type": "markdown",
   "metadata": {},
   "source": [
    "Next, lets plot our traces we just generated for this observation ontop of our image. Let separate our traces into their x-,y-compenents."
   ]
  },
  {
   "cell_type": "code",
   "execution_count": null,
   "metadata": {},
   "outputs": [],
   "source": [
    "x1, y1 = traces_order1\n",
    "x2, y2, = traces_order2"
   ]
  },
  {
   "attachments": {},
   "cell_type": "markdown",
   "metadata": {},
   "source": [
    "Now lets plots traces for orders 1 and 2 on top of our example SOSS observations"
   ]
  },
  {
   "cell_type": "code",
   "execution_count": null,
   "metadata": {},
   "outputs": [],
   "source": [
    "plt.figure(figsize=(6,3), dpi=200)\n",
    "plt.title(f'NIRISS/SOSS GR700XD\\ntrace positions at PWCPOS={pwcpos:.3f}')\n",
    "plt.imshow(data, vmin=0, vmax=50, origin='lower', aspect='auto', cmap='inferno')\n",
    "plt.plot(x1,y1, lw=1.5, label=f'order 1', color='cornflowerblue')\n",
    "plt.plot(x2,y2, lw=1.5, label=f'order 2', color='orangered')\n",
    "plt.xlabel('x [pix]')\n",
    "plt.ylabel('y [pix]')\n",
    "plt.legend()\n",
    "plt.show()"
   ]
  },
  {
   "attachments": {},
   "cell_type": "markdown",
   "metadata": {},
   "source": [
    "Now that we have our traces positions for spectral order 1 and 2, we can perform a simple aperutre extraction to extract the spectrum.  "
   ]
  },
  {
   "cell_type": "code",
   "execution_count": null,
   "metadata": {},
   "outputs": [],
   "source": [
    "# ignore values less zero\n",
    "data[data<0] = 0\n",
    "\n",
    "# Define how many pixels we want to set our aperture above and below the trace center\n",
    "npix = 15\n",
    "\n",
    "# perform a simple aperture extraction\n",
    "flux_order1 = [data[int(y)-npix:int(y)+npix, int(x)].sum() for x, y in zip(x1, y1)]\n",
    "flux_order2 = [data[int(y)-npix:int(y)+npix, int(x)].sum() for x, y in zip(x2, y2)]"
   ]
  },
  {
   "attachments": {},
   "cell_type": "markdown",
   "metadata": {},
   "source": [
    "Let's plot the extracted spectrum for orders 1 and 2."
   ]
  },
  {
   "cell_type": "code",
   "execution_count": null,
   "metadata": {},
   "outputs": [],
   "source": [
    "fig, (ax1, ax2) = plt.subplots(1, 2, figsize=(15,6))\n",
    "fig.suptitle('Extracted SOSS Spectra')\n",
    "ax1.plot(x1, flux_order1, lw=1.5, label=f'order 1', color='cornflowerblue')\n",
    "ax1.set_xlabel('x [pix]')\n",
    "ax1.set_ylabel('DN/s')\n",
    "ax1.legend()\n",
    "\n",
    "ax2.plot(x2, flux_order2, lw=1.5, label=f'order 2', color='orangered')\n",
    "ax2.set_xlabel('x [pix]')\n",
    "ax2.set_ylabel('DN/s')\n",
    "ax2.legend()\n",
    "plt.show()"
   ]
  },
  {
   "attachments": {},
   "cell_type": "markdown",
   "metadata": {},
   "source": [
    "# Conclusion\n",
    "\n",
    "This concludes the demo of how to use the PASATSOSS Package.\n",
    "\n",
    "Future updates to the package will include:\n",
    "- support for order 3 traces\n",
    "- including a wavelength solution model that predicts the assocated wavelengths for the traces positions given the pupil wheel position\n",
    "\n",
    "If you use this tool in your work, please cite the tool and author(s). For questions about the tool or interesting in contributing to the package please contact the author. "
   ]
  }
 ],
 "metadata": {
  "kernelspec": {
   "display_name": "pasta-soss-3.9",
   "language": "python",
   "name": "python3"
  },
  "language_info": {
   "codemirror_mode": {
    "name": "ipython",
    "version": 3
   },
   "file_extension": ".py",
   "mimetype": "text/x-python",
   "name": "python",
   "nbconvert_exporter": "python",
   "pygments_lexer": "ipython3",
   "version": "3.9.16"
  }
 },
 "nbformat": 4,
 "nbformat_minor": 2
}
